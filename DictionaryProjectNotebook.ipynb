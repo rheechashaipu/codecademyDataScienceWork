{
 "cells": [
  {
   "cell_type": "code",
   "execution_count": 54,
   "metadata": {},
   "outputs": [],
   "source": [
    "import pprint"
   ]
  },
  {
   "cell_type": "code",
   "execution_count": 55,
   "metadata": {},
   "outputs": [],
   "source": [
    "# names of hurricanes\n",
    "names = ['Cuba I', 'San Felipe II Okeechobee', 'Bahamas', 'Cuba II', 'CubaBrownsville', 'Tampico', 'Labor Day', 'New England', 'Carol', 'Janet', 'Carla', 'Hattie', 'Beulah', 'Camille', 'Edith', 'Anita', 'David', 'Allen', 'Gilbert', 'Hugo', 'Andrew', 'Mitch', 'Isabel', 'Ivan', 'Emily', 'Katrina', 'Rita', 'Wilma', 'Dean', 'Felix', 'Matthew', 'Irma', 'Maria', 'Michael']\n"
   ]
  },
  {
   "cell_type": "code",
   "execution_count": 56,
   "metadata": {},
   "outputs": [],
   "source": [
    "# months of hurricanes\n",
    "months = ['October', 'September', 'September', 'November', 'August', 'September', 'September', 'September', 'September', 'September', 'September', 'October', 'September', 'August', 'September', 'September', 'August', 'August', 'September', 'September', 'August', 'October', 'September', 'September', 'July', 'August', 'September', 'October', 'August', 'September', 'October', 'September', 'September', 'October']"
   ]
  },
  {
   "cell_type": "code",
   "execution_count": 57,
   "metadata": {},
   "outputs": [],
   "source": [
    "# years of hurricanes\n",
    "years = [1924, 1928, 1932, 1932, 1933, 1933, 1935, 1938, 1953, 1955, 1961, 1961, 1967, 1969, 1971, 1977, 1979, 1980, 1988, 1989, 1992, 1998, 2003, 2004, 2005, 2005, 2005, 2005, 2007, 2007, 2016, 2017, 2017, 2018]\n"
   ]
  },
  {
   "cell_type": "code",
   "execution_count": 58,
   "metadata": {},
   "outputs": [],
   "source": [
    "# maximum sustained winds (mph) of hurricanes\n",
    "max_sustained_winds = [165, 160, 160, 175, 160, 160, 185, 160, 160, 175, 175, 160, 160, 175, 160, 175, 175, 190, 185, 160, 175, 180, 165, 165, 160, 175, 180, 185, 175, 175, 165, 180, 175, 160]\n"
   ]
  },
  {
   "cell_type": "code",
   "execution_count": 59,
   "metadata": {},
   "outputs": [],
   "source": [
    "# areas affected by each hurricane\n",
    "areas_affected = [['Central America', 'Mexico', 'Cuba', 'Florida', 'The Bahamas'], ['Lesser Antilles', 'The Bahamas', 'United States East Coast', 'Atlantic Canada'], ['The Bahamas', 'Northeastern United States'], ['Lesser Antilles', 'Jamaica', 'Cayman Islands', 'Cuba', 'The Bahamas', 'Bermuda'], ['The Bahamas', 'Cuba', 'Florida', 'Texas', 'Tamaulipas'], ['Jamaica', 'Yucatn Peninsula'], ['The Bahamas', 'Florida', 'Georgia', 'The Carolinas', 'Virginia'], ['Southeastern United States', 'Northeastern United States', 'Southwestern Quebec'], ['Bermuda', 'New England', 'Atlantic Canada'], ['Lesser Antilles', 'Central America'], ['Texas', 'Louisiana', 'Midwestern United States'], ['Central America'], ['The Caribbean', 'Mexico', 'Texas'], ['Cuba', 'United States Gulf Coast'], ['The Caribbean', 'Central America', 'Mexico', 'United States Gulf Coast'], ['Mexico'], ['The Caribbean', 'United States East coast'], ['The Caribbean', 'Yucatn Peninsula', 'Mexico', 'South Texas'], ['Jamaica', 'Venezuela', 'Central America', 'Hispaniola', 'Mexico'], ['The Caribbean', 'United States East Coast'], ['The Bahamas', 'Florida', 'United States Gulf Coast'], ['Central America', 'Yucatn Peninsula', 'South Florida'], ['Greater Antilles', 'Bahamas', 'Eastern United States', 'Ontario'], ['The Caribbean', 'Venezuela', 'United States Gulf Coast'], ['Windward Islands', 'Jamaica', 'Mexico', 'Texas'], ['Bahamas', 'United States Gulf Coast'], ['Cuba', 'United States Gulf Coast'], ['Greater Antilles', 'Central America', 'Florida'], ['The Caribbean', 'Central America'], ['Nicaragua', 'Honduras'], ['Antilles', 'Venezuela', 'Colombia', 'United States East Coast', 'Atlantic Canada'], ['Cape Verde', 'The Caribbean', 'British Virgin Islands', 'U.S. Virgin Islands', 'Cuba', 'Florida'], ['Lesser Antilles', 'Virgin Islands', 'Puerto Rico', 'Dominican Republic', 'Turks and Caicos Islands'], ['Central America', 'United States Gulf Coast (especially Florida Panhandle)']]"
   ]
  },
  {
   "cell_type": "code",
   "execution_count": 60,
   "metadata": {},
   "outputs": [],
   "source": [
    "# damages (USD($)) of hurricanes\n",
    "damages = ['Damages not recorded', '100M', 'Damages not recorded', '40M', '27.9M', '5M', 'Damages not recorded', '306M', '2M', '65.8M', '326M', '60.3M', '208M', '1.42B', '25.4M', 'Damages not recorded', '1.54B', '1.24B', '7.1B', '10B', '26.5B', '6.2B', '5.37B', '23.3B', '1.01B', '125B', '12B', '29.4B', '1.76B', '720M', '15.1B', '64.8B', '91.6B', '25.1B']\n"
   ]
  },
  {
   "cell_type": "code",
   "execution_count": 61,
   "metadata": {},
   "outputs": [],
   "source": [
    "# deaths for each hurricane\n",
    "deaths = [90,4000,16,3103,179,184,408,682,5,1023,43,319,688,259,37,11,2068,269,318,107,65,19325,51,124,17,1836,125,87,45,133,603,138,3057,74]\n"
   ]
  },
  {
   "cell_type": "code",
   "execution_count": 62,
   "metadata": {},
   "outputs": [],
   "source": [
    "# write your update damages function here:\n",
    "def convert_damages_to_float(damages):\n",
    "    converted_damages = []\n",
    "    for each in damages:\n",
    "        if each == 'Damages not recorded':\n",
    "            converted_damages.append(each)\n",
    "        elif each.find('M') != -1:\n",
    "            converted_damages.append(float(each[:-1])*1000000)\n",
    "        elif each.find('B') != -1:\n",
    "            converted_damages.append(float(each[:-1])*1000000000)\n",
    "    return converted_damages\n",
    "\n",
    "#Reassign damages to the newly converted damages\n",
    "damages = convert_damages_to_float(damages);"
   ]
  },
  {
   "cell_type": "code",
   "execution_count": 63,
   "metadata": {},
   "outputs": [
    {
     "output_type": "stream",
     "name": "stdout",
     "text": [
      "{'Cuba I': {'month': 'October', 'year': 1924, 'max_sustained_wind': 165, 'area_affected': ['Central America', 'Mexico', 'Cuba', 'Florida', 'The Bahamas'], 'damage': 'Damages not recorded', 'deaths': 90}, 'San Felipe II Okeechobee': {'month': 'September', 'year': 1928, 'max_sustained_wind': 160, 'area_affected': ['Lesser Antilles', 'The Bahamas', 'United States East Coast', 'Atlantic Canada'], 'damage': 100000000.0, 'deaths': 4000}, 'Bahamas': {'month': 'September', 'year': 1932, 'max_sustained_wind': 160, 'area_affected': ['The Bahamas', 'Northeastern United States'], 'damage': 'Damages not recorded', 'deaths': 16}, 'Cuba II': {'month': 'November', 'year': 1932, 'max_sustained_wind': 175, 'area_affected': ['Lesser Antilles', 'Jamaica', 'Cayman Islands', 'Cuba', 'The Bahamas', 'Bermuda'], 'damage': 40000000.0, 'deaths': 3103}, 'CubaBrownsville': {'month': 'August', 'year': 1933, 'max_sustained_wind': 160, 'area_affected': ['The Bahamas', 'Cuba', 'Florida', 'Texas', 'Tamaulipas'], 'damage': 27900000.0, 'deaths': 179}, 'Tampico': {'month': 'September', 'year': 1933, 'max_sustained_wind': 160, 'area_affected': ['Jamaica', 'Yucatn Peninsula'], 'damage': 5000000.0, 'deaths': 184}, 'Labor Day': {'month': 'September', 'year': 1935, 'max_sustained_wind': 185, 'area_affected': ['The Bahamas', 'Florida', 'Georgia', 'The Carolinas', 'Virginia'], 'damage': 'Damages not recorded', 'deaths': 408}, 'New England': {'month': 'September', 'year': 1938, 'max_sustained_wind': 160, 'area_affected': ['Southeastern United States', 'Northeastern United States', 'Southwestern Quebec'], 'damage': 306000000.0, 'deaths': 682}, 'Carol': {'month': 'September', 'year': 1953, 'max_sustained_wind': 160, 'area_affected': ['Bermuda', 'New England', 'Atlantic Canada'], 'damage': 2000000.0, 'deaths': 5}, 'Janet': {'month': 'September', 'year': 1955, 'max_sustained_wind': 175, 'area_affected': ['Lesser Antilles', 'Central America'], 'damage': 65800000.0, 'deaths': 1023}, 'Carla': {'month': 'September', 'year': 1961, 'max_sustained_wind': 175, 'area_affected': ['Texas', 'Louisiana', 'Midwestern United States'], 'damage': 326000000.0, 'deaths': 43}, 'Hattie': {'month': 'October', 'year': 1961, 'max_sustained_wind': 160, 'area_affected': ['Central America'], 'damage': 60300000.0, 'deaths': 319}, 'Beulah': {'month': 'September', 'year': 1967, 'max_sustained_wind': 160, 'area_affected': ['The Caribbean', 'Mexico', 'Texas'], 'damage': 208000000.0, 'deaths': 688}, 'Camille': {'month': 'August', 'year': 1969, 'max_sustained_wind': 175, 'area_affected': ['Cuba', 'United States Gulf Coast'], 'damage': 1420000000.0, 'deaths': 259}, 'Edith': {'month': 'September', 'year': 1971, 'max_sustained_wind': 160, 'area_affected': ['The Caribbean', 'Central America', 'Mexico', 'United States Gulf Coast'], 'damage': 25400000.0, 'deaths': 37}, 'Anita': {'month': 'September', 'year': 1977, 'max_sustained_wind': 175, 'area_affected': ['Mexico'], 'damage': 'Damages not recorded', 'deaths': 11}, 'David': {'month': 'August', 'year': 1979, 'max_sustained_wind': 175, 'area_affected': ['The Caribbean', 'United States East coast'], 'damage': 1540000000.0, 'deaths': 2068}, 'Allen': {'month': 'August', 'year': 1980, 'max_sustained_wind': 190, 'area_affected': ['The Caribbean', 'Yucatn Peninsula', 'Mexico', 'South Texas'], 'damage': 1240000000.0, 'deaths': 269}, 'Gilbert': {'month': 'September', 'year': 1988, 'max_sustained_wind': 185, 'area_affected': ['Jamaica', 'Venezuela', 'Central America', 'Hispaniola', 'Mexico'], 'damage': 7100000000.0, 'deaths': 318}, 'Hugo': {'month': 'September', 'year': 1989, 'max_sustained_wind': 160, 'area_affected': ['The Caribbean', 'United States East Coast'], 'damage': 10000000000.0, 'deaths': 107}, 'Andrew': {'month': 'August', 'year': 1992, 'max_sustained_wind': 175, 'area_affected': ['The Bahamas', 'Florida', 'United States Gulf Coast'], 'damage': 26500000000.0, 'deaths': 65}, 'Mitch': {'month': 'October', 'year': 1998, 'max_sustained_wind': 180, 'area_affected': ['Central America', 'Yucatn Peninsula', 'South Florida'], 'damage': 6200000000.0, 'deaths': 19325}, 'Isabel': {'month': 'September', 'year': 2003, 'max_sustained_wind': 165, 'area_affected': ['Greater Antilles', 'Bahamas', 'Eastern United States', 'Ontario'], 'damage': 5370000000.0, 'deaths': 51}, 'Ivan': {'month': 'September', 'year': 2004, 'max_sustained_wind': 165, 'area_affected': ['The Caribbean', 'Venezuela', 'United States Gulf Coast'], 'damage': 23300000000.0, 'deaths': 124}, 'Emily': {'month': 'July', 'year': 2005, 'max_sustained_wind': 160, 'area_affected': ['Windward Islands', 'Jamaica', 'Mexico', 'Texas'], 'damage': 1010000000.0, 'deaths': 17}, 'Katrina': {'month': 'August', 'year': 2005, 'max_sustained_wind': 175, 'area_affected': ['Bahamas', 'United States Gulf Coast'], 'damage': 125000000000.0, 'deaths': 1836}, 'Rita': {'month': 'September', 'year': 2005, 'max_sustained_wind': 180, 'area_affected': ['Cuba', 'United States Gulf Coast'], 'damage': 12000000000.0, 'deaths': 125}, 'Wilma': {'month': 'October', 'year': 2005, 'max_sustained_wind': 185, 'area_affected': ['Greater Antilles', 'Central America', 'Florida'], 'damage': 29400000000.0, 'deaths': 87}, 'Dean': {'month': 'August', 'year': 2007, 'max_sustained_wind': 175, 'area_affected': ['The Caribbean', 'Central America'], 'damage': 1760000000.0, 'deaths': 45}, 'Felix': {'month': 'September', 'year': 2007, 'max_sustained_wind': 175, 'area_affected': ['Nicaragua', 'Honduras'], 'damage': 720000000.0, 'deaths': 133}, 'Matthew': {'month': 'October', 'year': 2016, 'max_sustained_wind': 165, 'area_affected': ['Antilles', 'Venezuela', 'Colombia', 'United States East Coast', 'Atlantic Canada'], 'damage': 15100000000.0, 'deaths': 603}, 'Irma': {'month': 'September', 'year': 2017, 'max_sustained_wind': 180, 'area_affected': ['Cape Verde', 'The Caribbean', 'British Virgin Islands', 'U.S. Virgin Islands', 'Cuba', 'Florida'], 'damage': 64800000000.0, 'deaths': 138}, 'Maria': {'month': 'September', 'year': 2017, 'max_sustained_wind': 175, 'area_affected': ['Lesser Antilles', 'Virgin Islands', 'Puerto Rico', 'Dominican Republic', 'Turks and Caicos Islands'], 'damage': 91600000000.0, 'deaths': 3057}, 'Michael': {'month': 'October', 'year': 2018, 'max_sustained_wind': 160, 'area_affected': ['Central America', 'United States Gulf Coast (especially Florida Panhandle)'], 'damage': 25100000000.0, 'deaths': 74}}\n"
     ]
    }
   ],
   "source": [
    "# write your construct hurricane dictionary function here:\n",
    "\n",
    "def create_hurricane_dictionary(names, months, years, max_sustained_winds, areas_affected, damages, deaths):\n",
    "    hurricane_dict = {}\n",
    "    number_of_hurricanes = len(names)\n",
    "    for i in range(0,number_of_hurricanes):\n",
    "        hurricane_dict[names[i]] = {\n",
    "            \"month\": months[i],\n",
    "            \"year\": years[i],\n",
    "            \"max_sustained_wind\": max_sustained_winds[i],\n",
    "            \"area_affected\": areas_affected[i],\n",
    "            \"damage\": damages[i],\n",
    "            \"deaths\": deaths[i]\n",
    "        }\n",
    "    return hurricane_dict\n",
    "\n",
    "hurricanes = create_hurricane_dictionary(names, months, years, max_sustained_winds, areas_affected, damages, deaths)\n",
    "print(hurricanes)"
   ]
  },
  {
   "cell_type": "code",
   "execution_count": 64,
   "metadata": {},
   "outputs": [],
   "source": [
    "\n",
    "def hurricanes_by_year_dict(hurricane_dict):\n",
    "    new_dict = {}\n",
    "    for record in hurricane_dict:\n",
    "        year = (hurricane_dict.get(record).get('year'))\n",
    "        hurricane = {}\n",
    "        hurricane['name'] = record\n",
    "        hurricane.update(hurricane_dict[record])\n",
    "\n",
    "        if year not in new_dict:\n",
    "            new_dict[year] = [hurricane]\n",
    "        else:\n",
    "            new_dict[year].append(hurricane)\n",
    "\n",
    "    return new_dict\n",
    "\n",
    "hurricanes_by_year = hurricanes_by_year_dict(hurricanes)\n",
    "\n"
   ]
  },
  {
   "source": [
    "\n",
    "print(hurricanes_by_year[1932])\n"
   ],
   "cell_type": "code",
   "metadata": {},
   "execution_count": 65,
   "outputs": [
    {
     "output_type": "stream",
     "name": "stdout",
     "text": [
      "[{'name': 'Bahamas', 'month': 'September', 'year': 1932, 'max_sustained_wind': 160, 'area_affected': ['The Bahamas', 'Northeastern United States'], 'damage': 'Damages not recorded', 'deaths': 16}, {'name': 'Cuba II', 'month': 'November', 'year': 1932, 'max_sustained_wind': 175, 'area_affected': ['Lesser Antilles', 'Jamaica', 'Cayman Islands', 'Cuba', 'The Bahamas', 'Bermuda'], 'damage': 40000000.0, 'deaths': 3103}]\n"
     ]
    }
   ]
  }
 ],
 "metadata": {
  "kernelspec": {
   "display_name": "Python 3",
   "language": "python",
   "name": "python3"
  },
  "language_info": {
   "codemirror_mode": {
    "name": "ipython",
    "version": 3
   },
   "file_extension": ".py",
   "mimetype": "text/x-python",
   "name": "python",
   "nbconvert_exporter": "python",
   "pygments_lexer": "ipython3",
   "version": "3.8.5-final"
  }
 },
 "nbformat": 4,
 "nbformat_minor": 4
}